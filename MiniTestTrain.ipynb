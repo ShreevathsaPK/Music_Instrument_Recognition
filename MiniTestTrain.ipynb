{
 "cells": [
  {
   "cell_type": "code",
   "execution_count": 3,
   "metadata": {},
   "outputs": [],
   "source": [
    "# feature extractoring and preprocessing data\n",
    "import librosa\n",
    "import time\n",
    "import pandas as pd\n",
    "import numpy as np\n",
    "import matplotlib.pyplot as plt\n",
    "import os\n",
    "from PIL import Image\n",
    "import pathlib \n",
    "import IPython\n",
    "import csv\n",
    "\n",
    "# Preprocessing\n",
    "from sklearn.model_selection import train_test_split\n",
    "from sklearn.preprocessing import LabelEncoder, StandardScaler\n",
    "from sklearn.metrics import confusion_matrix\n",
    "\n",
    "\n",
    "\n",
    "#Import Tensorflow\n",
    "import tensorflow as tf\n",
    "#Keras\n",
    "from tensorflow import keras\n",
    "\n",
    "import warnings\n",
    "warnings.filterwarnings('ignore')\n",
    "\n",
    "os.chdir(\"/Users/shreevathsapk/Desktop/Miniprj\")"
   ]
  },
  {
   "cell_type": "code",
   "execution_count": null,
   "metadata": {},
   "outputs": [],
   "source": []
  },
  {
   "cell_type": "code",
   "execution_count": 30,
   "metadata": {},
   "outputs": [
    {
     "name": "stdout",
     "output_type": "stream",
     "text": [
      "Bass_Acoustic\n",
      "Bass_electronic\n",
      "Bass_Synthetic\n",
      "Flute\n",
      "Guitar_Acoustic\n",
      "Guitar_electronic\n",
      "keyboard_acoustic\n",
      "keyboard_elec\n",
      "keyboard_synth\n",
      "mallet_acoustic\n",
      "organ_electronic\n",
      "reed_acoustic\n",
      "string_acoustic\n",
      "vocal_synth\n"
     ]
    }
   ],
   "source": [
    "header = 'filename chroma_stft spectral_centroid spectral_bandwidth rolloff zero_crossing_rate'\n",
    "for i in range(1, 21):\n",
    "    header += f' mfcc{i}'\n",
    "header += ' label'\n",
    "header = header.split()\n",
    "\n",
    "\n",
    "file = open('data.csv', 'w', newline='')\n",
    "with file:\n",
    "    writer = csv.writer(file)\n",
    "    writer.writerow(header)\n",
    "#instruments = 'piano strings flute harmonium sarod shankha sitar veena violin'.split()\n",
    "instruments = 'Bass_Acoustic Bass_electronic Bass_Synthetic Flute Guitar_Acoustic Guitar_electronic keyboard_acoustic keyboard_elec keyboard_synth mallet_acoustic organ_electronic reed_acoustic string_acoustic vocal_synth'.split()\n",
    "\n",
    "for g in instruments:\n",
    "    print(g);\n",
    "    for filename in os.listdir(f'/Users/shreevathsapk/Desktop/Miniprj/instrumentdata/{g}'):\n",
    "        if filename.endswith(('.mp3', '.wav', '.flac','.ogg')):\n",
    "            #print(filename) #\n",
    "            songname = f'/Users/shreevathsapk/Desktop/Miniprj/instrumentdata/{g}/{filename}'\n",
    "            y, sr = librosa.load(songname, mono=True, duration=30)\n",
    "            chroma_stft = librosa.feature.chroma_stft(y=y, sr=sr)\n",
    "            spec_cent = librosa.feature.spectral_centroid(y=y, sr=sr)\n",
    "            spec_bw = librosa.feature.spectral_bandwidth(y=y, sr=sr)\n",
    "            rolloff = librosa.feature.spectral_rolloff(y=y, sr=sr)\n",
    "            zcr = librosa.feature.zero_crossing_rate(y)\n",
    "            mfcc = librosa.feature.mfcc(y=y, sr=sr)\n",
    "            to_append = f'{filename} #{np.mean(chroma_stft)} #{np.mean(spec_cent)} #{np.mean(spec_bw)} #{np.mean(rolloff)} #{np.mean(zcr)}'    \n",
    "            for e in mfcc:\n",
    "                to_append += f' #{np.mean(e)}'\n",
    "            to_append += f' #{g}'\n",
    "            file = open('data.csv', 'a', newline='')\n",
    "            with file:\n",
    "                writer = csv.writer(file)\n",
    "                writer.writerow(to_append.split(\"#\"))\n",
    "                "
   ]
  },
  {
   "cell_type": "code",
   "execution_count": 4,
   "metadata": {},
   "outputs": [],
   "source": [
    "data = pd.read_csv('data.csv')\n",
    "\n",
    "export_csv = data.to_csv (r'/Users/shreevathsapk/Desktop/Miniprj/pandaresult.csv', index = None, header=True)"
   ]
  },
  {
   "cell_type": "code",
   "execution_count": 32,
   "metadata": {
    "jupyter": {
     "source_hidden": true
    }
   },
   "outputs": [
    {
     "data": {
      "text/html": [
       "<div>\n",
       "<style scoped>\n",
       "    .dataframe tbody tr th:only-of-type {\n",
       "        vertical-align: middle;\n",
       "    }\n",
       "\n",
       "    .dataframe tbody tr th {\n",
       "        vertical-align: top;\n",
       "    }\n",
       "\n",
       "    .dataframe thead th {\n",
       "        text-align: right;\n",
       "    }\n",
       "</style>\n",
       "<table border=\"1\" class=\"dataframe\">\n",
       "  <thead>\n",
       "    <tr style=\"text-align: right;\">\n",
       "      <th></th>\n",
       "      <th>filename</th>\n",
       "      <th>chroma_stft</th>\n",
       "      <th>spectral_centroid</th>\n",
       "      <th>spectral_bandwidth</th>\n",
       "      <th>rolloff</th>\n",
       "      <th>zero_crossing_rate</th>\n",
       "      <th>mfcc1</th>\n",
       "      <th>mfcc2</th>\n",
       "      <th>mfcc3</th>\n",
       "      <th>mfcc4</th>\n",
       "      <th>...</th>\n",
       "      <th>mfcc12</th>\n",
       "      <th>mfcc13</th>\n",
       "      <th>mfcc14</th>\n",
       "      <th>mfcc15</th>\n",
       "      <th>mfcc16</th>\n",
       "      <th>mfcc17</th>\n",
       "      <th>mfcc18</th>\n",
       "      <th>mfcc19</th>\n",
       "      <th>mfcc20</th>\n",
       "      <th>label</th>\n",
       "    </tr>\n",
       "  </thead>\n",
       "  <tbody>\n",
       "    <tr>\n",
       "      <td>0</td>\n",
       "      <td>brass_acoustic_015-063-075.wav</td>\n",
       "      <td>0.116223</td>\n",
       "      <td>772.089791</td>\n",
       "      <td>669.901684</td>\n",
       "      <td>1272.699433</td>\n",
       "      <td>0.044925</td>\n",
       "      <td>-469.896637</td>\n",
       "      <td>66.996750</td>\n",
       "      <td>2.773713</td>\n",
       "      <td>-7.344683</td>\n",
       "      <td>...</td>\n",
       "      <td>-8.083671</td>\n",
       "      <td>-5.048218</td>\n",
       "      <td>-6.389764</td>\n",
       "      <td>-3.771957</td>\n",
       "      <td>-5.420980</td>\n",
       "      <td>-6.060807</td>\n",
       "      <td>-8.996303</td>\n",
       "      <td>-6.962704</td>\n",
       "      <td>1.869202</td>\n",
       "      <td>Bass_Acoustic</td>\n",
       "    </tr>\n",
       "    <tr>\n",
       "      <td>1</td>\n",
       "      <td>brass_acoustic_059-046-025.wav</td>\n",
       "      <td>0.222872</td>\n",
       "      <td>706.261907</td>\n",
       "      <td>591.486416</td>\n",
       "      <td>1106.719512</td>\n",
       "      <td>0.061295</td>\n",
       "      <td>-392.835815</td>\n",
       "      <td>189.844299</td>\n",
       "      <td>43.456573</td>\n",
       "      <td>-14.843616</td>\n",
       "      <td>...</td>\n",
       "      <td>-0.261810</td>\n",
       "      <td>-3.648379</td>\n",
       "      <td>-7.170358</td>\n",
       "      <td>-8.678823</td>\n",
       "      <td>-3.089788</td>\n",
       "      <td>1.779325</td>\n",
       "      <td>1.426942</td>\n",
       "      <td>-0.562221</td>\n",
       "      <td>-4.903541</td>\n",
       "      <td>Bass_Acoustic</td>\n",
       "    </tr>\n",
       "    <tr>\n",
       "      <td>2</td>\n",
       "      <td>brass_acoustic_016-089-050.wav</td>\n",
       "      <td>0.153270</td>\n",
       "      <td>4293.149869</td>\n",
       "      <td>1397.840548</td>\n",
       "      <td>5644.873188</td>\n",
       "      <td>0.397055</td>\n",
       "      <td>-481.355225</td>\n",
       "      <td>-52.098198</td>\n",
       "      <td>-29.272726</td>\n",
       "      <td>51.450451</td>\n",
       "      <td>...</td>\n",
       "      <td>-6.393055</td>\n",
       "      <td>-0.816413</td>\n",
       "      <td>-21.469234</td>\n",
       "      <td>7.891709</td>\n",
       "      <td>-8.986416</td>\n",
       "      <td>21.074375</td>\n",
       "      <td>-3.472238</td>\n",
       "      <td>-24.394167</td>\n",
       "      <td>-9.087689</td>\n",
       "      <td>Bass_Acoustic</td>\n",
       "    </tr>\n",
       "    <tr>\n",
       "      <td>3</td>\n",
       "      <td>brass_acoustic_046-086-025.wav</td>\n",
       "      <td>0.780810</td>\n",
       "      <td>3257.143238</td>\n",
       "      <td>1859.838776</td>\n",
       "      <td>5358.157966</td>\n",
       "      <td>0.295142</td>\n",
       "      <td>-31.477379</td>\n",
       "      <td>111.165787</td>\n",
       "      <td>-118.823204</td>\n",
       "      <td>101.380623</td>\n",
       "      <td>...</td>\n",
       "      <td>-8.901740</td>\n",
       "      <td>14.788354</td>\n",
       "      <td>-18.563610</td>\n",
       "      <td>19.579359</td>\n",
       "      <td>-19.051245</td>\n",
       "      <td>17.527319</td>\n",
       "      <td>-13.264457</td>\n",
       "      <td>9.172668</td>\n",
       "      <td>-4.606864</td>\n",
       "      <td>Bass_Acoustic</td>\n",
       "    </tr>\n",
       "    <tr>\n",
       "      <td>4</td>\n",
       "      <td>brass_acoustic_046-096-025.wav</td>\n",
       "      <td>0.780810</td>\n",
       "      <td>3257.143238</td>\n",
       "      <td>1859.838776</td>\n",
       "      <td>5358.157966</td>\n",
       "      <td>0.295142</td>\n",
       "      <td>-31.477379</td>\n",
       "      <td>111.165787</td>\n",
       "      <td>-118.823204</td>\n",
       "      <td>101.380623</td>\n",
       "      <td>...</td>\n",
       "      <td>-8.901740</td>\n",
       "      <td>14.788354</td>\n",
       "      <td>-18.563610</td>\n",
       "      <td>19.579359</td>\n",
       "      <td>-19.051245</td>\n",
       "      <td>17.527319</td>\n",
       "      <td>-13.264457</td>\n",
       "      <td>9.172668</td>\n",
       "      <td>-4.606864</td>\n",
       "      <td>Bass_Acoustic</td>\n",
       "    </tr>\n",
       "    <tr>\n",
       "      <td>...</td>\n",
       "      <td>...</td>\n",
       "      <td>...</td>\n",
       "      <td>...</td>\n",
       "      <td>...</td>\n",
       "      <td>...</td>\n",
       "      <td>...</td>\n",
       "      <td>...</td>\n",
       "      <td>...</td>\n",
       "      <td>...</td>\n",
       "      <td>...</td>\n",
       "      <td>...</td>\n",
       "      <td>...</td>\n",
       "      <td>...</td>\n",
       "      <td>...</td>\n",
       "      <td>...</td>\n",
       "      <td>...</td>\n",
       "      <td>...</td>\n",
       "      <td>...</td>\n",
       "      <td>...</td>\n",
       "      <td>...</td>\n",
       "      <td>...</td>\n",
       "    </tr>\n",
       "    <tr>\n",
       "      <td>4091</td>\n",
       "      <td>vocal_synthetic_003-108-075.wav</td>\n",
       "      <td>0.203392</td>\n",
       "      <td>3651.378173</td>\n",
       "      <td>2086.068616</td>\n",
       "      <td>6325.160597</td>\n",
       "      <td>0.315957</td>\n",
       "      <td>-171.960876</td>\n",
       "      <td>36.750389</td>\n",
       "      <td>-55.689747</td>\n",
       "      <td>73.938583</td>\n",
       "      <td>...</td>\n",
       "      <td>11.632354</td>\n",
       "      <td>24.769184</td>\n",
       "      <td>-24.416580</td>\n",
       "      <td>22.626951</td>\n",
       "      <td>-10.902688</td>\n",
       "      <td>18.290472</td>\n",
       "      <td>2.032426</td>\n",
       "      <td>-11.142293</td>\n",
       "      <td>15.200210</td>\n",
       "      <td>vocal_synth</td>\n",
       "    </tr>\n",
       "    <tr>\n",
       "      <td>4092</td>\n",
       "      <td>vocal_synthetic_003-084-075.wav</td>\n",
       "      <td>0.131949</td>\n",
       "      <td>1867.576598</td>\n",
       "      <td>1543.836180</td>\n",
       "      <td>3447.739653</td>\n",
       "      <td>0.139829</td>\n",
       "      <td>-398.415009</td>\n",
       "      <td>-8.231347</td>\n",
       "      <td>-39.087692</td>\n",
       "      <td>15.918352</td>\n",
       "      <td>...</td>\n",
       "      <td>2.623544</td>\n",
       "      <td>58.025414</td>\n",
       "      <td>30.693241</td>\n",
       "      <td>-3.983568</td>\n",
       "      <td>-0.308079</td>\n",
       "      <td>20.071917</td>\n",
       "      <td>-35.369507</td>\n",
       "      <td>-2.600209</td>\n",
       "      <td>68.903610</td>\n",
       "      <td>vocal_synth</td>\n",
       "    </tr>\n",
       "    <tr>\n",
       "      <td>4093</td>\n",
       "      <td>vocal_synthetic_003-060-100.wav</td>\n",
       "      <td>0.262238</td>\n",
       "      <td>2657.255749</td>\n",
       "      <td>1891.021536</td>\n",
       "      <td>4952.325545</td>\n",
       "      <td>0.183010</td>\n",
       "      <td>-193.338959</td>\n",
       "      <td>-28.432560</td>\n",
       "      <td>-57.578430</td>\n",
       "      <td>91.676506</td>\n",
       "      <td>...</td>\n",
       "      <td>-18.044823</td>\n",
       "      <td>11.433823</td>\n",
       "      <td>-12.647687</td>\n",
       "      <td>5.235250</td>\n",
       "      <td>-17.038450</td>\n",
       "      <td>1.529860</td>\n",
       "      <td>-11.974364</td>\n",
       "      <td>5.367595</td>\n",
       "      <td>-9.757542</td>\n",
       "      <td>vocal_synth</td>\n",
       "    </tr>\n",
       "    <tr>\n",
       "      <td>4094</td>\n",
       "      <td>vocal_acoustic_000-050-050.wav</td>\n",
       "      <td>0.181503</td>\n",
       "      <td>735.430912</td>\n",
       "      <td>992.885352</td>\n",
       "      <td>1796.093186</td>\n",
       "      <td>0.023502</td>\n",
       "      <td>-303.862122</td>\n",
       "      <td>104.008972</td>\n",
       "      <td>-26.208755</td>\n",
       "      <td>53.464386</td>\n",
       "      <td>...</td>\n",
       "      <td>-23.727808</td>\n",
       "      <td>-3.421882</td>\n",
       "      <td>2.979419</td>\n",
       "      <td>-1.454737</td>\n",
       "      <td>-4.183025</td>\n",
       "      <td>-0.519505</td>\n",
       "      <td>-9.737333</td>\n",
       "      <td>2.976835</td>\n",
       "      <td>-4.131946</td>\n",
       "      <td>vocal_synth</td>\n",
       "    </tr>\n",
       "    <tr>\n",
       "      <td>4095</td>\n",
       "      <td>vocal_acoustic_000-059-127.wav</td>\n",
       "      <td>0.122303</td>\n",
       "      <td>1315.763827</td>\n",
       "      <td>1154.395130</td>\n",
       "      <td>2451.735656</td>\n",
       "      <td>0.058388</td>\n",
       "      <td>-276.227692</td>\n",
       "      <td>56.102425</td>\n",
       "      <td>-55.731079</td>\n",
       "      <td>48.095951</td>\n",
       "      <td>...</td>\n",
       "      <td>-14.707502</td>\n",
       "      <td>-1.791384</td>\n",
       "      <td>-3.141917</td>\n",
       "      <td>6.261209</td>\n",
       "      <td>-2.807244</td>\n",
       "      <td>-6.140350</td>\n",
       "      <td>-10.702525</td>\n",
       "      <td>0.009002</td>\n",
       "      <td>-4.836519</td>\n",
       "      <td>vocal_synth</td>\n",
       "    </tr>\n",
       "  </tbody>\n",
       "</table>\n",
       "<p>4096 rows × 27 columns</p>\n",
       "</div>"
      ],
      "text/plain": [
       "                              filename  chroma_stft  spectral_centroid  \\\n",
       "0      brass_acoustic_015-063-075.wav      0.116223         772.089791   \n",
       "1      brass_acoustic_059-046-025.wav      0.222872         706.261907   \n",
       "2      brass_acoustic_016-089-050.wav      0.153270        4293.149869   \n",
       "3      brass_acoustic_046-086-025.wav      0.780810        3257.143238   \n",
       "4      brass_acoustic_046-096-025.wav      0.780810        3257.143238   \n",
       "...                                ...          ...                ...   \n",
       "4091  vocal_synthetic_003-108-075.wav      0.203392        3651.378173   \n",
       "4092  vocal_synthetic_003-084-075.wav      0.131949        1867.576598   \n",
       "4093  vocal_synthetic_003-060-100.wav      0.262238        2657.255749   \n",
       "4094   vocal_acoustic_000-050-050.wav      0.181503         735.430912   \n",
       "4095   vocal_acoustic_000-059-127.wav      0.122303        1315.763827   \n",
       "\n",
       "      spectral_bandwidth      rolloff  zero_crossing_rate       mfcc1  \\\n",
       "0             669.901684  1272.699433            0.044925 -469.896637   \n",
       "1             591.486416  1106.719512            0.061295 -392.835815   \n",
       "2            1397.840548  5644.873188            0.397055 -481.355225   \n",
       "3            1859.838776  5358.157966            0.295142  -31.477379   \n",
       "4            1859.838776  5358.157966            0.295142  -31.477379   \n",
       "...                  ...          ...                 ...         ...   \n",
       "4091         2086.068616  6325.160597            0.315957 -171.960876   \n",
       "4092         1543.836180  3447.739653            0.139829 -398.415009   \n",
       "4093         1891.021536  4952.325545            0.183010 -193.338959   \n",
       "4094          992.885352  1796.093186            0.023502 -303.862122   \n",
       "4095         1154.395130  2451.735656            0.058388 -276.227692   \n",
       "\n",
       "           mfcc2       mfcc3       mfcc4  ...     mfcc12     mfcc13  \\\n",
       "0      66.996750    2.773713   -7.344683  ...  -8.083671  -5.048218   \n",
       "1     189.844299   43.456573  -14.843616  ...  -0.261810  -3.648379   \n",
       "2     -52.098198  -29.272726   51.450451  ...  -6.393055  -0.816413   \n",
       "3     111.165787 -118.823204  101.380623  ...  -8.901740  14.788354   \n",
       "4     111.165787 -118.823204  101.380623  ...  -8.901740  14.788354   \n",
       "...          ...         ...         ...  ...        ...        ...   \n",
       "4091   36.750389  -55.689747   73.938583  ...  11.632354  24.769184   \n",
       "4092   -8.231347  -39.087692   15.918352  ...   2.623544  58.025414   \n",
       "4093  -28.432560  -57.578430   91.676506  ... -18.044823  11.433823   \n",
       "4094  104.008972  -26.208755   53.464386  ... -23.727808  -3.421882   \n",
       "4095   56.102425  -55.731079   48.095951  ... -14.707502  -1.791384   \n",
       "\n",
       "         mfcc14     mfcc15     mfcc16     mfcc17     mfcc18     mfcc19  \\\n",
       "0     -6.389764  -3.771957  -5.420980  -6.060807  -8.996303  -6.962704   \n",
       "1     -7.170358  -8.678823  -3.089788   1.779325   1.426942  -0.562221   \n",
       "2    -21.469234   7.891709  -8.986416  21.074375  -3.472238 -24.394167   \n",
       "3    -18.563610  19.579359 -19.051245  17.527319 -13.264457   9.172668   \n",
       "4    -18.563610  19.579359 -19.051245  17.527319 -13.264457   9.172668   \n",
       "...         ...        ...        ...        ...        ...        ...   \n",
       "4091 -24.416580  22.626951 -10.902688  18.290472   2.032426 -11.142293   \n",
       "4092  30.693241  -3.983568  -0.308079  20.071917 -35.369507  -2.600209   \n",
       "4093 -12.647687   5.235250 -17.038450   1.529860 -11.974364   5.367595   \n",
       "4094   2.979419  -1.454737  -4.183025  -0.519505  -9.737333   2.976835   \n",
       "4095  -3.141917   6.261209  -2.807244  -6.140350 -10.702525   0.009002   \n",
       "\n",
       "         mfcc20          label  \n",
       "0      1.869202  Bass_Acoustic  \n",
       "1     -4.903541  Bass_Acoustic  \n",
       "2     -9.087689  Bass_Acoustic  \n",
       "3     -4.606864  Bass_Acoustic  \n",
       "4     -4.606864  Bass_Acoustic  \n",
       "...         ...            ...  \n",
       "4091  15.200210    vocal_synth  \n",
       "4092  68.903610    vocal_synth  \n",
       "4093  -9.757542    vocal_synth  \n",
       "4094  -4.131946    vocal_synth  \n",
       "4095  -4.836519    vocal_synth  \n",
       "\n",
       "[4096 rows x 27 columns]"
      ]
     },
     "execution_count": 32,
     "metadata": {},
     "output_type": "execute_result"
    }
   ],
   "source": [
    "data"
   ]
  },
  {
   "cell_type": "code",
   "execution_count": 5,
   "metadata": {},
   "outputs": [
    {
     "data": {
      "text/plain": [
       "(4096, 27)"
      ]
     },
     "execution_count": 5,
     "metadata": {},
     "output_type": "execute_result"
    }
   ],
   "source": [
    "data.shape"
   ]
  },
  {
   "cell_type": "code",
   "execution_count": 6,
   "metadata": {},
   "outputs": [],
   "source": [
    "data = data.drop(['filename'],axis=1)"
   ]
  },
  {
   "cell_type": "code",
   "execution_count": 7,
   "metadata": {},
   "outputs": [],
   "source": [
    "instrument_list = data.iloc[:, -1] #selects the last column as instrument list \n",
    "\n",
    "encoder = LabelEncoder()\n",
    "y = encoder.fit_transform(instrument_list)#encodes the instrument column int o0s to 10s"
   ]
  },
  {
   "cell_type": "code",
   "execution_count": 8,
   "metadata": {},
   "outputs": [],
   "source": [
    "scaler = StandardScaler()\n",
    "X = scaler.fit_transform(np.array(data.iloc[:, :-1], dtype = float))"
   ]
  },
  {
   "cell_type": "code",
   "execution_count": 9,
   "metadata": {},
   "outputs": [],
   "source": [
    "X_train, X_test, y_train, y_test = train_test_split(X, y, test_size=0.2)"
   ]
  },
  {
   "cell_type": "code",
   "execution_count": 10,
   "metadata": {},
   "outputs": [],
   "source": [
    "x_val = X_train[:200]\n",
    "partial_x_train = X_train[200:]\n",
    "\n",
    "y_val = y_train[:200]\n",
    "partial_y_train = y_train[200:]\n"
   ]
  },
  {
   "cell_type": "code",
   "execution_count": 11,
   "metadata": {},
   "outputs": [
    {
     "name": "stderr",
     "output_type": "stream",
     "text": [
      "Using TensorFlow backend.\n"
     ]
    },
    {
     "name": "stdout",
     "output_type": "stream",
     "text": [
      "Train on 3076 samples, validate on 200 samples\n",
      "Epoch 1/30\n",
      "3076/3076 [==============================] - 1s 169us/step - loss: 2.5729 - accuracy: 0.1772 - val_loss: 2.3485 - val_accuracy: 0.2650\n",
      "Epoch 2/30\n",
      "3076/3076 [==============================] - 0s 47us/step - loss: 2.2555 - accuracy: 0.2633 - val_loss: 2.0798 - val_accuracy: 0.3800\n",
      "Epoch 3/30\n",
      "3076/3076 [==============================] - 0s 39us/step - loss: 2.0342 - accuracy: 0.3674 - val_loss: 1.8782 - val_accuracy: 0.4050\n",
      "Epoch 4/30\n",
      "3076/3076 [==============================] - 0s 42us/step - loss: 1.8356 - accuracy: 0.4086 - val_loss: 1.7247 - val_accuracy: 0.4400\n",
      "Epoch 5/30\n",
      "3076/3076 [==============================] - 0s 43us/step - loss: 1.6831 - accuracy: 0.4616 - val_loss: 1.6220 - val_accuracy: 0.4650\n",
      "Epoch 6/30\n",
      "3076/3076 [==============================] - 0s 41us/step - loss: 1.5332 - accuracy: 0.4935 - val_loss: 1.4579 - val_accuracy: 0.5050\n",
      "Epoch 7/30\n",
      "3076/3076 [==============================] - 0s 39us/step - loss: 1.4491 - accuracy: 0.5185 - val_loss: 1.4168 - val_accuracy: 0.5100\n",
      "Epoch 8/30\n",
      "3076/3076 [==============================] - 0s 62us/step - loss: 1.3775 - accuracy: 0.5150 - val_loss: 1.5372 - val_accuracy: 0.4400\n",
      "Epoch 9/30\n",
      "3076/3076 [==============================] - 0s 58us/step - loss: 1.3320 - accuracy: 0.5283 - val_loss: 1.3581 - val_accuracy: 0.5450\n",
      "Epoch 10/30\n",
      "3076/3076 [==============================] - 0s 42us/step - loss: 1.2723 - accuracy: 0.5624 - val_loss: 1.3549 - val_accuracy: 0.5200\n",
      "Epoch 11/30\n",
      "3076/3076 [==============================] - 0s 38us/step - loss: 1.1815 - accuracy: 0.5930 - val_loss: 1.2140 - val_accuracy: 0.5700\n",
      "Epoch 12/30\n",
      "3076/3076 [==============================] - 0s 44us/step - loss: 1.1551 - accuracy: 0.6005 - val_loss: 1.2089 - val_accuracy: 0.6150\n",
      "Epoch 13/30\n",
      "3076/3076 [==============================] - 0s 75us/step - loss: 1.1207 - accuracy: 0.6281 - val_loss: 1.2323 - val_accuracy: 0.5550\n",
      "Epoch 14/30\n",
      "3076/3076 [==============================] - 0s 56us/step - loss: 1.0606 - accuracy: 0.6190 - val_loss: 1.1217 - val_accuracy: 0.6050\n",
      "Epoch 15/30\n",
      "3076/3076 [==============================] - 0s 54us/step - loss: 1.0048 - accuracy: 0.6525 - val_loss: 1.0631 - val_accuracy: 0.6400\n",
      "Epoch 16/30\n",
      "3076/3076 [==============================] - 0s 47us/step - loss: 0.9778 - accuracy: 0.6707 - val_loss: 1.0797 - val_accuracy: 0.6350\n",
      "Epoch 17/30\n",
      "3076/3076 [==============================] - 0s 52us/step - loss: 0.9490 - accuracy: 0.6821 - val_loss: 1.0426 - val_accuracy: 0.6200\n",
      "Epoch 18/30\n",
      "3076/3076 [==============================] - 0s 59us/step - loss: 0.8883 - accuracy: 0.6863 - val_loss: 1.0075 - val_accuracy: 0.6350\n",
      "Epoch 19/30\n",
      "3076/3076 [==============================] - 0s 45us/step - loss: 0.8753 - accuracy: 0.6921 - val_loss: 0.9874 - val_accuracy: 0.6600\n",
      "Epoch 20/30\n",
      "3076/3076 [==============================] - 0s 43us/step - loss: 0.8161 - accuracy: 0.7175 - val_loss: 0.9486 - val_accuracy: 0.6750\n",
      "Epoch 21/30\n",
      "3076/3076 [==============================] - 0s 43us/step - loss: 0.7654 - accuracy: 0.7321 - val_loss: 0.9507 - val_accuracy: 0.6350\n",
      "Epoch 22/30\n",
      "3076/3076 [==============================] - 0s 38us/step - loss: 0.7384 - accuracy: 0.7409 - val_loss: 0.9103 - val_accuracy: 0.6950\n",
      "Epoch 23/30\n",
      "3076/3076 [==============================] - 0s 40us/step - loss: 0.7294 - accuracy: 0.7373 - val_loss: 0.8835 - val_accuracy: 0.6650\n",
      "Epoch 24/30\n",
      "3076/3076 [==============================] - 0s 56us/step - loss: 0.7559 - accuracy: 0.7425 - val_loss: 0.9474 - val_accuracy: 0.6400\n",
      "Epoch 25/30\n",
      "3076/3076 [==============================] - 0s 72us/step - loss: 0.8573 - accuracy: 0.7149 - val_loss: 1.0375 - val_accuracy: 0.6300\n",
      "Epoch 26/30\n",
      "3076/3076 [==============================] - 0s 42us/step - loss: 0.8031 - accuracy: 0.7159 - val_loss: 0.9091 - val_accuracy: 0.6950\n",
      "Epoch 27/30\n",
      "3076/3076 [==============================] - 0s 39us/step - loss: 0.7632 - accuracy: 0.7321 - val_loss: 0.9427 - val_accuracy: 0.6600\n",
      "Epoch 28/30\n",
      "3076/3076 [==============================] - 0s 40us/step - loss: 0.7403 - accuracy: 0.7396 - val_loss: 0.8804 - val_accuracy: 0.6850\n",
      "Epoch 29/30\n",
      "3076/3076 [==============================] - 0s 42us/step - loss: 0.6833 - accuracy: 0.7565 - val_loss: 0.8520 - val_accuracy: 0.7050\n",
      "Epoch 30/30\n",
      "3076/3076 [==============================] - 0s 43us/step - loss: 0.6421 - accuracy: 0.7890 - val_loss: 0.8045 - val_accuracy: 0.7400\n"
     ]
    },
    {
     "data": {
      "text/plain": [
       "<keras.callbacks.callbacks.History at 0x1c360044d0>"
      ]
     },
     "execution_count": 11,
     "metadata": {},
     "output_type": "execute_result"
    }
   ],
   "source": [
    "from keras import models\n",
    "from keras import layers\n",
    "model = models.Sequential()\n",
    "model.add(layers.Dense(512, activation='relu', input_shape=(X_train.shape[1],)))\n",
    "model.add(layers.Dense(256, activation='relu'))\n",
    "model.add(layers.Dense(128, activation='relu'))\n",
    "model.add(layers.Dense(64, activation='relu'))\n",
    "model.add(layers.Dense(15, activation='softmax')) #first parameter is the no of labels.change it accordingly\n",
    "\n",
    "model.compile(optimizer='adam',\n",
    "              loss='sparse_categorical_crossentropy',\n",
    "              metrics=['accuracy'])\n",
    "\n",
    "model.fit(partial_x_train,\n",
    "          partial_y_train,\n",
    "          epochs=30,\n",
    "          batch_size=512,\n",
    "          validation_data=(x_val, y_val))"
   ]
  },
  {
   "cell_type": "code",
   "execution_count": 12,
   "metadata": {},
   "outputs": [],
   "source": [
    "#We NEED TO SAVE THE MODEL NOW #and experiment on music data\n",
    "model.save(\"instruments-recognition.h5\")"
   ]
  },
  {
   "cell_type": "code",
   "execution_count": 13,
   "metadata": {},
   "outputs": [
    {
     "data": {
      "text/plain": [
       "array([10,  5, 11,  1,  0,  4, 10,  7,  9,  1, 12,  2,  4,  7,  1, 10,  4,\n",
       "        1, 11,  7,  0,  1, 10,  5,  7,  7,  2,  9, 10, 10, 11,  3,  1,  1,\n",
       "        1, 10,  9, 12,  4,  0,  7,  4,  2,  7,  1, 12, 11,  7,  4, 11,  1,\n",
       "        2,  7, 12, 12, 13,  5,  1,  7,  2, 10,  3,  7, 13,  1,  7,  2,  1,\n",
       "        7,  1, 11,  1,  7,  4,  1, 10,  7,  1,  9, 12, 11,  4,  7, 10,  7,\n",
       "        7, 11,  4, 11,  8,  7,  4,  0, 13, 10,  4,  4,  4,  4, 10,  9,  0,\n",
       "        4, 12, 10, 10,  0,  1,  7,  2,  3,  4,  1, 10,  1,  1,  0,  7,  8,\n",
       "        4,  1,  9,  7, 10,  9,  4,  0,  0,  1,  9,  9, 10, 13, 10, 10, 12,\n",
       "        1,  7,  7, 10,  1,  7,  8, 10,  1, 11,  7, 12,  1,  7,  5,  0,  1,\n",
       "        7,  7,  8,  3,  1, 12, 10,  7,  7, 11,  2,  3, 12,  7, 12,  8,  7,\n",
       "        7, 11,  4,  7, 11,  0, 10,  7,  2,  1,  1,  4,  1,  0, 10, 12, 10,\n",
       "        9,  4, 10,  1,  1, 10,  4,  0,  2,  9,  9,  1,  3, 10, 10,  8,  4,\n",
       "       10, 10,  7,  9,  7,  1,  1,  7,  5,  4,  2,  7,  9, 12,  7, 10,  3,\n",
       "        0,  9, 10,  1,  1, 10,  2,  0, 10, 13,  0,  7, 10,  7,  7,  1,  2,\n",
       "       11, 10,  7,  5, 10,  2,  1, 13, 11,  7,  8,  1, 11,  4,  7,  0,  1,\n",
       "        1, 12,  3,  6,  1, 11,  3,  7,  1,  0, 12,  0,  7,  1,  0, 13, 11,\n",
       "       10, 10,  5,  7, 10, 13,  1,  7,  3,  9,  4, 11,  0,  4,  2,  7,  5,\n",
       "        1,  5,  1,  7,  0, 12,  9,  2,  9, 13,  7,  1,  7,  7,  0, 10, 12,\n",
       "        1,  9, 12, 10,  7,  4, 12,  1,  1,  8,  8,  7,  1,  8, 11,  5,  4,\n",
       "        4,  9, 11, 10, 12,  0,  5, 12,  9,  1, 10,  1,  7,  8,  4,  9,  5,\n",
       "        7,  0, 10,  1,  3,  3,  1,  7,  3,  1,  5,  2,  2, 13,  1,  1, 12,\n",
       "        1,  7,  4, 10,  0, 11,  1,  9,  7,  4, 11, 12,  1,  5,  7,  7,  6,\n",
       "        0,  1,  7, 10,  5, 11,  7,  4,  2,  9,  4, 10,  5, 11,  7,  0, 11,\n",
       "        0,  3, 12,  4, 13,  7,  4,  1,  2,  1, 11,  7, 10,  7, 10,  4, 13,\n",
       "        7, 11,  8, 12,  7, 10,  4,  7,  7,  3,  4,  4,  0,  4,  7,  7,  1,\n",
       "        7, 11,  1,  0,  9,  1,  1, 10,  2,  1,  7,  1,  7, 13,  2,  5, 10,\n",
       "        5, 10, 11,  1, 10, 12, 12,  7, 10,  7, 10,  1,  5,  0,  3,  4, 10,\n",
       "        1,  9, 10,  9,  2,  7,  7, 12,  7,  1,  8, 12, 10, 10,  7,  0, 10,\n",
       "        9, 11, 10,  7,  2,  1,  8,  7,  4,  5, 13,  6,  7,  7,  7, 10, 13,\n",
       "       11, 11, 10,  1, 12,  7,  1,  1,  7,  0,  3,  7,  3,  1, 13, 10,  6,\n",
       "        1, 13,  0,  1,  7,  7,  1,  0,  7,  7,  7,  7,  0,  1,  2,  2,  4,\n",
       "        7,  7, 13,  4,  9,  4,  8,  5,  5,  7,  0,  7,  4,  9,  4,  4,  7,\n",
       "        0,  7,  0,  7,  9, 11, 11,  5,  1,  3,  4,  7, 10,  7,  6, 13, 13,\n",
       "        1,  9,  4, 13,  8,  3,  7, 12,  5,  7,  7,  7,  6, 12,  5,  0, 10,\n",
       "        1, 13, 12,  8,  4,  9,  1,  9,  9, 10,  7,  1, 11,  1, 11, 13, 11,\n",
       "       12,  7,  9,  1,  1,  0,  1,  2,  7,  0,  1,  5,  9, 10,  1,  7,  1,\n",
       "       12,  7,  0,  4,  4,  3, 12,  7, 11,  1, 11, 10,  3, 13, 10,  7,  5,\n",
       "       10,  1, 12,  1,  2, 12,  2,  1,  2,  5,  1, 10,  8,  8,  7,  9, 11,\n",
       "        0,  1,  1,  1,  7, 10, 13, 11,  1,  7,  8,  1,  1,  1,  4,  7,  1,\n",
       "       12,  1, 12,  9,  4,  3,  1,  7,  1, 10, 10, 11,  7,  0, 11, 10,  4,\n",
       "        1,  5,  0,  0,  4,  5,  0,  2, 13,  4,  1,  4,  7,  7,  2, 12, 12,\n",
       "        8,  0,  3,  3,  7,  7, 12,  9,  7, 12,  1, 10, 10, 10,  1, 10,  7,\n",
       "        2,  1, 10,  1,  7, 12, 13,  0,  4,  7,  1, 10, 12,  7,  7,  1,  2,\n",
       "        4, 10,  7,  7,  0, 11,  1,  3,  7,  0, 13,  5, 12,  7,  7,  9,  1,\n",
       "        3,  1, 10, 12, 10,  7, 11, 10, 12,  7, 10, 12,  2,  1,  7,  0,  1,\n",
       "        2,  7, 13,  7,  7, 13,  1, 10, 12,  6, 11,  8, 10, 11, 12,  3,  7,\n",
       "        2,  7,  2,  9, 12,  9,  4, 10, 10, 12,  1,  1, 13,  7,  7,  2,  5,\n",
       "        3,  7,  1,  7, 13,  1,  1,  7,  4,  5, 10, 13,  7,  3,  7,  7,  9,\n",
       "        7,  7,  0, 11])"
      ]
     },
     "execution_count": 13,
     "metadata": {},
     "output_type": "execute_result"
    }
   ],
   "source": [
    "predictions = model.predict_classes(X_test)\n",
    "predictions"
   ]
  },
  {
   "cell_type": "code",
   "execution_count": 14,
   "metadata": {},
   "outputs": [],
   "source": [
    "C=confusion_matrix(y_test, predictions) #PLots the Confusion MAtrix"
   ]
  },
  {
   "cell_type": "code",
   "execution_count": 15,
   "metadata": {},
   "outputs": [
    {
     "data": {
      "text/plain": [
       "array([[ 45,   0,   0,   1,   0,   0,   0,   0,   0,   0,   0,   0,   4,\n",
       "          0],\n",
       "       [  1, 101,   0,   0,   1,   1,   0,  21,   0,   8,   2,   0,   0,\n",
       "          3],\n",
       "       [  0,   1,  38,   0,   0,   0,   0,   0,   0,   0,   0,   0,   0,\n",
       "          0],\n",
       "       [  1,   1,   0,  22,   5,   0,   0,   0,   0,   0,   1,   0,   1,\n",
       "          1],\n",
       "       [  1,  11,   0,   0,  40,   8,   1,  22,   2,   7,   3,   0,   0,\n",
       "          1],\n",
       "       [  0,   1,   0,   0,   6,  19,   2,   9,   0,   3,   4,   0,   0,\n",
       "          0],\n",
       "       [  0,   2,   0,   0,   0,   0,   4,  10,   0,   0,   1,   0,   0,\n",
       "          0],\n",
       "       [  1,   5,   0,   0,   4,   4,   0,  83,   0,   0,   2,   0,   0,\n",
       "          0],\n",
       "       [  0,   1,   0,   0,   1,   0,   0,   0,  19,   0,   0,   0,   0,\n",
       "          0],\n",
       "       [  1,   6,   1,   0,   5,   0,   0,   7,   0,  26,   1,   0,   0,\n",
       "          0],\n",
       "       [  0,   1,   0,   4,   1,   1,   0,   2,   0,   0,  81,   2,   0,\n",
       "          4],\n",
       "       [  3,   0,   0,   3,   0,   0,   0,   1,   0,   0,   0,  47,   0,\n",
       "          0],\n",
       "       [  1,   3,   0,   0,   1,   0,   0,   4,   1,   0,   0,   0,  50,\n",
       "          1],\n",
       "       [  1,   1,   0,   0,   1,   0,   0,   0,   0,   0,   0,   0,   0,\n",
       "         23]])"
      ]
     },
     "execution_count": 15,
     "metadata": {},
     "output_type": "execute_result"
    }
   ],
   "source": [
    "C"
   ]
  },
  {
   "cell_type": "code",
   "execution_count": 16,
   "metadata": {},
   "outputs": [
    {
     "data": {
      "text/plain": [
       "array([[90.        ,  0.        ,  0.        ,  3.125     ,  0.        ,\n",
       "         0.        ,  0.        ,  0.        ,  0.        ,  0.        ,\n",
       "         0.        ,  0.        ,  6.55737705,  0.        ],\n",
       "       [ 2.        , 73.1884058 ,  0.        ,  0.        ,  1.04166667,\n",
       "         2.27272727,  0.        , 21.21212121,  0.        , 17.0212766 ,\n",
       "         2.08333333,  0.        ,  0.        , 11.53846154],\n",
       "       [ 0.        ,  0.72463768, 97.43589744,  0.        ,  0.        ,\n",
       "         0.        ,  0.        ,  0.        ,  0.        ,  0.        ,\n",
       "         0.        ,  0.        ,  0.        ,  0.        ],\n",
       "       [ 2.        ,  0.72463768,  0.        , 68.75      ,  5.20833333,\n",
       "         0.        ,  0.        ,  0.        ,  0.        ,  0.        ,\n",
       "         1.04166667,  0.        ,  1.63934426,  3.84615385],\n",
       "       [ 2.        ,  7.97101449,  0.        ,  0.        , 41.66666667,\n",
       "        18.18181818,  5.88235294, 22.22222222,  9.52380952, 14.89361702,\n",
       "         3.125     ,  0.        ,  0.        ,  3.84615385],\n",
       "       [ 0.        ,  0.72463768,  0.        ,  0.        ,  6.25      ,\n",
       "        43.18181818, 11.76470588,  9.09090909,  0.        ,  6.38297872,\n",
       "         4.16666667,  0.        ,  0.        ,  0.        ],\n",
       "       [ 0.        ,  1.44927536,  0.        ,  0.        ,  0.        ,\n",
       "         0.        , 23.52941176, 10.1010101 ,  0.        ,  0.        ,\n",
       "         1.04166667,  0.        ,  0.        ,  0.        ],\n",
       "       [ 2.        ,  3.62318841,  0.        ,  0.        ,  4.16666667,\n",
       "         9.09090909,  0.        , 83.83838384,  0.        ,  0.        ,\n",
       "         2.08333333,  0.        ,  0.        ,  0.        ],\n",
       "       [ 0.        ,  0.72463768,  0.        ,  0.        ,  1.04166667,\n",
       "         0.        ,  0.        ,  0.        , 90.47619048,  0.        ,\n",
       "         0.        ,  0.        ,  0.        ,  0.        ],\n",
       "       [ 2.        ,  4.34782609,  2.56410256,  0.        ,  5.20833333,\n",
       "         0.        ,  0.        ,  7.07070707,  0.        , 55.31914894,\n",
       "         1.04166667,  0.        ,  0.        ,  0.        ],\n",
       "       [ 0.        ,  0.72463768,  0.        , 12.5       ,  1.04166667,\n",
       "         2.27272727,  0.        ,  2.02020202,  0.        ,  0.        ,\n",
       "        84.375     ,  3.7037037 ,  0.        , 15.38461538],\n",
       "       [ 6.        ,  0.        ,  0.        ,  9.375     ,  0.        ,\n",
       "         0.        ,  0.        ,  1.01010101,  0.        ,  0.        ,\n",
       "         0.        , 87.03703704,  0.        ,  0.        ],\n",
       "       [ 2.        ,  2.17391304,  0.        ,  0.        ,  1.04166667,\n",
       "         0.        ,  0.        ,  4.04040404,  4.76190476,  0.        ,\n",
       "         0.        ,  0.        , 81.96721311,  3.84615385],\n",
       "       [ 2.        ,  0.72463768,  0.        ,  0.        ,  1.04166667,\n",
       "         0.        ,  0.        ,  0.        ,  0.        ,  0.        ,\n",
       "         0.        ,  0.        ,  0.        , 88.46153846]])"
      ]
     },
     "execution_count": 16,
     "metadata": {},
     "output_type": "execute_result"
    }
   ],
   "source": [
    "K=(C / C.astype(np.float).sum(axis=1))*100\n",
    "K"
   ]
  },
  {
   "cell_type": "code",
   "execution_count": 18,
   "metadata": {},
   "outputs": [
    {
     "name": "stdout",
     "output_type": "stream",
     "text": [
      "90.0\n",
      "73.18840579710145\n",
      "97.43589743589743\n",
      "68.75\n",
      "41.66666666666667\n",
      "43.18181818181818\n",
      "23.52941176470588\n",
      "83.83838383838383\n",
      "90.47619047619048\n",
      "55.319148936170215\n",
      "84.375\n",
      "87.03703703703704\n",
      "81.9672131147541\n",
      "88.46153846153845\n"
     ]
    }
   ],
   "source": [
    "for i in range (14):\n",
    "    print(K[i][i])"
   ]
  },
  {
   "cell_type": "markdown",
   "metadata": {},
   "source": [
    "predictions[0].shape"
   ]
  },
  {
   "cell_type": "code",
   "execution_count": 19,
   "metadata": {},
   "outputs": [
    {
     "data": {
      "text/plain": [
       "10"
      ]
     },
     "execution_count": 19,
     "metadata": {},
     "output_type": "execute_result"
    }
   ],
   "source": [
    "np.sum(predictions[0])"
   ]
  },
  {
   "cell_type": "code",
   "execution_count": 20,
   "metadata": {},
   "outputs": [
    {
     "data": {
      "text/plain": [
       "0"
      ]
     },
     "execution_count": 20,
     "metadata": {},
     "output_type": "execute_result"
    }
   ],
   "source": [
    "np.argmax(predictions[0])"
   ]
  },
  {
   "cell_type": "code",
   "execution_count": 21,
   "metadata": {},
   "outputs": [
    {
     "data": {
      "text/plain": [
       "array([10,  5, 11,  1,  0,  7, 10,  7,  4,  1, 12,  2,  8,  1,  1,  4,  4,\n",
       "        1, 11, 12,  0,  1,  1,  7,  9,  1,  2,  5, 10, 10, 11, 11,  1,  1,\n",
       "        1, 10,  4, 12,  4,  0,  7,  3,  2,  7,  1, 12, 11,  7,  4, 11,  9,\n",
       "        2,  7, 12, 12, 13,  5,  1,  7,  2, 10, 10,  7,  1,  1,  4,  2,  3,\n",
       "        5,  4, 11,  1,  7,  4,  1, 10,  7,  4,  9, 12, 11,  5,  9, 10,  4,\n",
       "        1, 11,  4, 10,  8, 12,  4,  1, 10, 10,  4,  4,  4,  4, 10,  1,  0,\n",
       "        9, 12, 10, 10,  0,  1,  1,  2,  3,  7,  6, 10,  1,  1,  0,  5,  8,\n",
       "        3,  1,  1,  4, 10,  1,  4,  0,  0,  1,  1,  9, 10, 13, 10,  5, 12,\n",
       "        1,  6,  1, 10,  1,  1,  8, 10,  1, 11,  7, 12,  1,  5,  4,  0,  1,\n",
       "        5, 10,  8,  3,  1, 12, 10,  7,  7, 11,  2,  0,  0,  7,  0,  8,  7,\n",
       "        7, 11,  4,  7, 11,  0, 10,  7,  2,  1,  1,  4,  1,  7, 10,  0, 10,\n",
       "        5,  7, 10,  1,  4, 10,  4,  0,  2,  9,  9,  1,  3, 10, 10,  8,  4,\n",
       "       10,  7,  1,  9,  1,  1,  1,  7,  5,  4,  2,  4,  9, 12,  5, 10,  3,\n",
       "        0,  4, 10,  1,  1, 10,  2,  0, 10, 13, 11,  7, 10,  4,  7,  1,  2,\n",
       "       11, 10,  7,  4, 10,  2,  1, 13, 11,  7,  8,  1, 11,  4,  9,  0,  1,\n",
       "        1, 12,  3,  6,  1, 11, 11,  1,  4,  0, 12,  0,  7,  1,  0, 13, 11,\n",
       "       10,  5,  5,  4, 10, 13,  6,  4,  3,  9,  4, 11,  0,  9,  2,  7,  5,\n",
       "        1,  5,  1,  6,  0, 12,  9,  2,  9, 13,  4,  7,  7,  7,  0, 10, 12,\n",
       "        4,  4, 12, 10,  1,  3,  3,  1,  1,  8,  4,  6,  1,  8, 11,  1,  4,\n",
       "        4,  9, 11, 10, 12, 13,  5, 12,  9,  1,  3,  1,  7,  8,  4,  9,  4,\n",
       "        7,  0, 10,  1,  3,  3,  4,  1, 11,  4,  4,  2,  2,  3,  1,  1, 12,\n",
       "        1,  1,  4, 10,  0, 11,  1,  9,  7, 12, 11, 12,  2,  4,  7,  7,  5,\n",
       "        0,  1,  1, 10,  7, 11,  5,  4,  2,  9,  4, 10,  5, 11,  7,  0, 11,\n",
       "        0, 10, 12,  4, 12,  7,  9,  1,  9,  1, 11,  4, 10,  7, 10,  3, 13,\n",
       "        4, 11,  8, 12,  4, 10,  4,  7,  7,  3,  5, 13,  0,  4,  1,  5,  1,\n",
       "       11, 11,  5,  0,  1,  1,  1, 10,  2,  1,  4,  1,  7, 13,  2,  5, 10,\n",
       "        5, 10, 11,  1, 10, 12, 12,  7, 10,  7, 10,  1,  7, 12, 10,  4, 10,\n",
       "        1,  9, 10,  9,  2,  1,  7, 12,  4,  4, 12, 12, 10, 10,  7,  0, 10,\n",
       "        9, 11, 10,  6,  2,  1,  8,  7,  5,  5, 13,  6,  7,  6,  7, 10, 13,\n",
       "       11, 11, 10,  1, 12,  4,  1,  1,  7,  0,  3,  6,  3,  1, 10, 10,  6,\n",
       "        8, 13,  0,  4,  7,  7,  1,  0,  1,  7,  1,  9,  0,  1,  2,  2,  4,\n",
       "        6,  7, 13,  5,  5,  7,  8,  5,  5,  4, 11,  7,  4,  1,  4,  4,  5,\n",
       "        0, 10,  0,  4,  9, 11, 11,  5,  7, 10,  4,  6, 10,  7,  5, 13,  1,\n",
       "        1,  1,  4, 10,  8,  3,  7, 12,  5, 12,  5,  1,  4, 12,  4,  3,  7,\n",
       "        9, 13, 12,  8, 10,  1,  1,  9,  4,  9,  6,  9, 11,  1, 11, 13, 11,\n",
       "       12,  7,  9,  9,  1,  0,  1,  2,  7,  0, 13, 10,  9, 10,  1,  7,  1,\n",
       "       12,  4,  0,  9,  4,  3, 12,  7, 11,  1, 10,  5,  3, 13,  6,  7,  5,\n",
       "        4,  1, 12,  1,  2, 12,  2, 12,  2,  4,  4, 10,  8,  8,  7,  9, 11,\n",
       "        0,  1,  1,  7,  7,  5, 10, 11,  1,  7,  8,  1,  4,  1,  4,  7,  9,\n",
       "       12,  1, 12,  9,  1,  3,  1,  7,  7, 10, 10, 11,  7,  0, 11, 10,  4,\n",
       "        1,  4,  0,  0,  5,  5,  4,  2, 13,  3,  1,  4,  7,  7,  2, 12,  0,\n",
       "        4,  0,  3,  3,  7,  1, 12,  9,  4, 12,  1, 10,  4, 10,  1, 10,  7,\n",
       "        2, 12, 10,  1,  7, 12, 13,  0,  9,  7,  7, 10, 12,  6,  4, 10,  2,\n",
       "        5, 10,  7,  4, 11, 11,  1,  3,  7,  0, 13,  5, 12,  7,  7,  9,  1,\n",
       "        3,  1, 10, 12, 10,  7, 11, 10, 12,  7, 10, 12,  2, 12, 12,  0,  1,\n",
       "        2,  7, 13,  7,  4, 13,  1,  1, 12,  6, 11,  8, 10, 11, 12,  3,  1,\n",
       "        2,  7,  2,  9, 12,  4,  4, 10, 10, 12,  1,  1,  1,  9,  7,  2,  5,\n",
       "        3,  7,  9,  7, 13,  1,  1,  7,  4,  7, 10,  4,  9,  3,  4,  1,  4,\n",
       "        9,  7,  9, 11])"
      ]
     },
     "execution_count": 21,
     "metadata": {},
     "output_type": "execute_result"
    }
   ],
   "source": [
    "y_test"
   ]
  },
  {
   "cell_type": "code",
   "execution_count": 22,
   "metadata": {},
   "outputs": [
    {
     "data": {
      "text/plain": [
       "array([  0,   0,   0,   0,   0,  -3,   0,   0,   5,   0,   0,   0,  -4,\n",
       "         6,   0,   6,   0,   0,   0,  -5,   0,   0,   9,  -2,  -2,   6,\n",
       "         0,   4,   0,   0,   0,  -8,   0,   0,   0,   0,   5,   0,   0,\n",
       "         0,   0,   1,   0,   0,   0,   0,   0,   0,   0,   0,  -8,   0,\n",
       "         0,   0,   0,   0,   0,   0,   0,   0,   0,  -7,   0,  12,   0,\n",
       "         3,   0,  -2,   2,  -3,   0,   0,   0,   0,   0,   0,   0,  -3,\n",
       "         0,   0,   0,  -1,  -2,   0,   3,   6,   0,   0,   1,   0,  -5,\n",
       "         0,  -1,   3,   0,   0,   0,   0,   0,   0,   8,   0,  -5,   0,\n",
       "         0,   0,   0,   0,   6,   0,   0,  -3,  -5,   0,   0,   0,   0,\n",
       "         2,   0,   1,   0,   8,   3,   0,   8,   0,   0,   0,   0,   8,\n",
       "         0,   0,   0,   0,   5,   0,   0,   1,   6,   0,   0,   6,   0,\n",
       "         0,   0,   0,   0,   0,   0,   2,   1,   0,   0,   2,  -3,   0,\n",
       "         0,   0,   0,   0,   0,   0,   0,   0,   3,  12,   0,  12,   0,\n",
       "         0,   0,   0,   0,   0,   0,   0,   0,   0,   0,   0,   0,   0,\n",
       "         0,  -7,   0,  12,   0,   4,  -3,   0,   0,  -3,   0,   0,   0,\n",
       "         0,   0,   0,   0,   0,   0,   0,   0,   0,   0,   3,   6,   0,\n",
       "         6,   0,   0,   0,   0,   0,   0,   3,   0,   0,   2,   0,   0,\n",
       "         0,   5,   0,   0,   0,   0,   0,   0,   0,   0, -11,   0,   0,\n",
       "         3,   0,   0,   0,   0,   0,   0,   1,   0,   0,   0,   0,   0,\n",
       "         0,   0,   0,   0,   0,  -2,   0,   0,   0,   0,   0,   0,   0,\n",
       "         0,  -8,   6,  -3,   0,   0,   0,   0,   0,   0,   0,   0,   0,\n",
       "         5,   0,   3,   0,   0,  -5,   3,   0,   0,   0,   0,   0,  -5,\n",
       "         0,   0,   0,   0,   0,   0,   1,   0,   0,   0,   0,   0,   0,\n",
       "         3,  -6,   0,   0,   0,   0,   0,  -3,   5,   0,   0,   6,   1,\n",
       "         9,   0,   0,   0,   4,   1,   0,   0,   0,   4,   0,   0,   0,\n",
       "         0,   0,   0, -13,   0,   0,   0,   0,   7,   0,   0,   0,   0,\n",
       "         0,   1,   0,   0,   0,   0,   0,   0,  -3,   6,  -8,  -3,   1,\n",
       "         0,   0,  10,   0,   0,   0,   0,   6,   0,   0,   0,   0,   0,\n",
       "         0,   0,  -8,   0,   0,  -1,   1,   0,   0,   1,   0,   0,   6,\n",
       "         0,  -2,   0,   2,   0,   0,   0,   0,   0,   0,   0,   0,   0,\n",
       "         0,   0,  -7,   0,   0,   1,   0,  -5,   0,  -7,   0,   0,   3,\n",
       "         0,   0,   0,   1,   0,   3,   0,   0,   0,   3,   0,   0,   0,\n",
       "         0,   0,  -1,  -9,   0,   0,   6,   2,   0,  -4,   0,  -4,   0,\n",
       "         8,   0,   0,   0,   0,   0,   3,   0,   0,   0,   0,   0,   0,\n",
       "         0,   0,   0,   0,   0,   0,   0,   0,   0,   0,   0,   0,  -2,\n",
       "       -12,  -7,   0,   0,   0,   0,   0,   0,   0,   6,   0,   0,   3,\n",
       "        -3,  -4,   0,   0,   0,   0,   0,   0,   0,   0,   0,   1,   0,\n",
       "         0,   0,   0,  -1,   0,   0,   0,   0,   1,   0,   0,   0,   0,\n",
       "         0,   0,   0,   0,   3,   0,   0,   0,   0,   0,   1,   0,   0,\n",
       "         3,   0,   0,  -7,   0,   0,  -3,   0,   0,   0,   0,   6,   0,\n",
       "         6,  -2,   0,   0,   0,   0,   0,   1,   0,   0,  -1,   4,  -3,\n",
       "         0,   0,   0,   3, -11,   0,   0,   8,   0,   0,   2,   0,  -3,\n",
       "         0,   3,   0,   0,   0,   0,  -6,  -7,   0,   1,   0,   0,   1,\n",
       "         0,  12,   0,   8,   0,   3,   0,   0,   0,   0,   0,  -5,   2,\n",
       "         6,   2,   0,   1,  -3,   3,  -8,   0,   0,   0,  -6,   8,   0,\n",
       "         0,   5,   1,   1,  -8,   0,   0,   0,   0,   0,   0,   0,   0,\n",
       "        -8,   0,   0,   0,   0,   0,   0, -12,  -5,   0,   0,   0,   0,\n",
       "         0,   0,   3,   0,  -5,   0,   0,   0,   0,   0,   0,   1,   5,\n",
       "         0,   0,   4,   0,   0,   6,   0,   0,   0,   0,   0,   0, -11,\n",
       "         0,   1,  -3,   0,   0,   0,   0,   0,   0,   0,   0,   0,  -6,\n",
       "         0,   5,   3,   0,   0,   0,   0,   0,  -3,   0,   0,   0,  -8,\n",
       "         0,   0,   0,   0,   3,   0,   0,   0,  -6,   0,   0,   0,   0,\n",
       "         0,   0,   0,   0,   0,   1,   0,   0,  -1,   0,  -4,   0,   0,\n",
       "         1,   0,   0,   0,   0,   0,   0,  12,   4,   0,   0,   0,   0,\n",
       "         6,   0,   0,   3,   0,   0,   0,   6,   0,   0,   0,   0,   0,\n",
       "       -11,   0,   0,   0,   0,   0,   0,  -5,   0,  -6,   0,   0,   1,\n",
       "         3,  -9,   0,  -1,   0,   0,   3, -11,   0,   0,   0,   0,   0,\n",
       "         0,   0,   0,   0,   0,   0,   0,   0,   0,   0,   0,   0,   0,\n",
       "         0,   0,   0,   0,   0,   0,   0, -11,  -5,   0,   0,   0,   0,\n",
       "         0,   0,   3,   0,   0,   9,   0,   0,   0,   0,   0,   0,   0,\n",
       "         0,   6,   0,   0,   0,   0,   0,   5,   0,   0,   0,   0,   0,\n",
       "         0,  12,  -2,   0,   0,   0,   0,   0,  -8,   0,   0,   0,   0,\n",
       "         0,   0,  -2,   0,   9,  -2,   0,   3,   6,   5,  -2,   0,  -9,\n",
       "         0])"
      ]
     },
     "execution_count": 22,
     "metadata": {},
     "output_type": "execute_result"
    }
   ],
   "source": [
    "e=predictions-y_test\n",
    "e"
   ]
  },
  {
   "cell_type": "code",
   "execution_count": 23,
   "metadata": {},
   "outputs": [
    {
     "ename": "FileNotFoundError",
     "evalue": "[Errno 2] File b'execute.csv' does not exist: b'execute.csv'",
     "output_type": "error",
     "traceback": [
      "\u001b[0;31m---------------------------------------------------------------------------\u001b[0m",
      "\u001b[0;31mFileNotFoundError\u001b[0m                         Traceback (most recent call last)",
      "\u001b[0;32m<ipython-input-23-3eaf5aaee9a9>\u001b[0m in \u001b[0;36m<module>\u001b[0;34m\u001b[0m\n\u001b[0;32m----> 1\u001b[0;31m \u001b[0mexec_data\u001b[0m \u001b[0;34m=\u001b[0m \u001b[0mpd\u001b[0m\u001b[0;34m.\u001b[0m\u001b[0mread_csv\u001b[0m\u001b[0;34m(\u001b[0m\u001b[0;34m'execute.csv'\u001b[0m\u001b[0;34m)\u001b[0m \u001b[0;31m#Fresh Unkonwn data system that doesnt know features extracted from. antoher prgram\u001b[0m\u001b[0;34m\u001b[0m\u001b[0;34m\u001b[0m\u001b[0m\n\u001b[0m\u001b[1;32m      2\u001b[0m \u001b[0mexec_data\u001b[0m\u001b[0;34m\u001b[0m\u001b[0;34m\u001b[0m\u001b[0m\n",
      "\u001b[0;32m~/opt/anaconda3/lib/python3.7/site-packages/pandas/io/parsers.py\u001b[0m in \u001b[0;36mparser_f\u001b[0;34m(filepath_or_buffer, sep, delimiter, header, names, index_col, usecols, squeeze, prefix, mangle_dupe_cols, dtype, engine, converters, true_values, false_values, skipinitialspace, skiprows, skipfooter, nrows, na_values, keep_default_na, na_filter, verbose, skip_blank_lines, parse_dates, infer_datetime_format, keep_date_col, date_parser, dayfirst, cache_dates, iterator, chunksize, compression, thousands, decimal, lineterminator, quotechar, quoting, doublequote, escapechar, comment, encoding, dialect, error_bad_lines, warn_bad_lines, delim_whitespace, low_memory, memory_map, float_precision)\u001b[0m\n\u001b[1;32m    683\u001b[0m         )\n\u001b[1;32m    684\u001b[0m \u001b[0;34m\u001b[0m\u001b[0m\n\u001b[0;32m--> 685\u001b[0;31m         \u001b[0;32mreturn\u001b[0m \u001b[0m_read\u001b[0m\u001b[0;34m(\u001b[0m\u001b[0mfilepath_or_buffer\u001b[0m\u001b[0;34m,\u001b[0m \u001b[0mkwds\u001b[0m\u001b[0;34m)\u001b[0m\u001b[0;34m\u001b[0m\u001b[0;34m\u001b[0m\u001b[0m\n\u001b[0m\u001b[1;32m    686\u001b[0m \u001b[0;34m\u001b[0m\u001b[0m\n\u001b[1;32m    687\u001b[0m     \u001b[0mparser_f\u001b[0m\u001b[0;34m.\u001b[0m\u001b[0m__name__\u001b[0m \u001b[0;34m=\u001b[0m \u001b[0mname\u001b[0m\u001b[0;34m\u001b[0m\u001b[0;34m\u001b[0m\u001b[0m\n",
      "\u001b[0;32m~/opt/anaconda3/lib/python3.7/site-packages/pandas/io/parsers.py\u001b[0m in \u001b[0;36m_read\u001b[0;34m(filepath_or_buffer, kwds)\u001b[0m\n\u001b[1;32m    455\u001b[0m \u001b[0;34m\u001b[0m\u001b[0m\n\u001b[1;32m    456\u001b[0m     \u001b[0;31m# Create the parser.\u001b[0m\u001b[0;34m\u001b[0m\u001b[0;34m\u001b[0m\u001b[0;34m\u001b[0m\u001b[0m\n\u001b[0;32m--> 457\u001b[0;31m     \u001b[0mparser\u001b[0m \u001b[0;34m=\u001b[0m \u001b[0mTextFileReader\u001b[0m\u001b[0;34m(\u001b[0m\u001b[0mfp_or_buf\u001b[0m\u001b[0;34m,\u001b[0m \u001b[0;34m**\u001b[0m\u001b[0mkwds\u001b[0m\u001b[0;34m)\u001b[0m\u001b[0;34m\u001b[0m\u001b[0;34m\u001b[0m\u001b[0m\n\u001b[0m\u001b[1;32m    458\u001b[0m \u001b[0;34m\u001b[0m\u001b[0m\n\u001b[1;32m    459\u001b[0m     \u001b[0;32mif\u001b[0m \u001b[0mchunksize\u001b[0m \u001b[0;32mor\u001b[0m \u001b[0miterator\u001b[0m\u001b[0;34m:\u001b[0m\u001b[0;34m\u001b[0m\u001b[0;34m\u001b[0m\u001b[0m\n",
      "\u001b[0;32m~/opt/anaconda3/lib/python3.7/site-packages/pandas/io/parsers.py\u001b[0m in \u001b[0;36m__init__\u001b[0;34m(self, f, engine, **kwds)\u001b[0m\n\u001b[1;32m    893\u001b[0m             \u001b[0mself\u001b[0m\u001b[0;34m.\u001b[0m\u001b[0moptions\u001b[0m\u001b[0;34m[\u001b[0m\u001b[0;34m\"has_index_names\"\u001b[0m\u001b[0;34m]\u001b[0m \u001b[0;34m=\u001b[0m \u001b[0mkwds\u001b[0m\u001b[0;34m[\u001b[0m\u001b[0;34m\"has_index_names\"\u001b[0m\u001b[0;34m]\u001b[0m\u001b[0;34m\u001b[0m\u001b[0;34m\u001b[0m\u001b[0m\n\u001b[1;32m    894\u001b[0m \u001b[0;34m\u001b[0m\u001b[0m\n\u001b[0;32m--> 895\u001b[0;31m         \u001b[0mself\u001b[0m\u001b[0;34m.\u001b[0m\u001b[0m_make_engine\u001b[0m\u001b[0;34m(\u001b[0m\u001b[0mself\u001b[0m\u001b[0;34m.\u001b[0m\u001b[0mengine\u001b[0m\u001b[0;34m)\u001b[0m\u001b[0;34m\u001b[0m\u001b[0;34m\u001b[0m\u001b[0m\n\u001b[0m\u001b[1;32m    896\u001b[0m \u001b[0;34m\u001b[0m\u001b[0m\n\u001b[1;32m    897\u001b[0m     \u001b[0;32mdef\u001b[0m \u001b[0mclose\u001b[0m\u001b[0;34m(\u001b[0m\u001b[0mself\u001b[0m\u001b[0;34m)\u001b[0m\u001b[0;34m:\u001b[0m\u001b[0;34m\u001b[0m\u001b[0;34m\u001b[0m\u001b[0m\n",
      "\u001b[0;32m~/opt/anaconda3/lib/python3.7/site-packages/pandas/io/parsers.py\u001b[0m in \u001b[0;36m_make_engine\u001b[0;34m(self, engine)\u001b[0m\n\u001b[1;32m   1133\u001b[0m     \u001b[0;32mdef\u001b[0m \u001b[0m_make_engine\u001b[0m\u001b[0;34m(\u001b[0m\u001b[0mself\u001b[0m\u001b[0;34m,\u001b[0m \u001b[0mengine\u001b[0m\u001b[0;34m=\u001b[0m\u001b[0;34m\"c\"\u001b[0m\u001b[0;34m)\u001b[0m\u001b[0;34m:\u001b[0m\u001b[0;34m\u001b[0m\u001b[0;34m\u001b[0m\u001b[0m\n\u001b[1;32m   1134\u001b[0m         \u001b[0;32mif\u001b[0m \u001b[0mengine\u001b[0m \u001b[0;34m==\u001b[0m \u001b[0;34m\"c\"\u001b[0m\u001b[0;34m:\u001b[0m\u001b[0;34m\u001b[0m\u001b[0;34m\u001b[0m\u001b[0m\n\u001b[0;32m-> 1135\u001b[0;31m             \u001b[0mself\u001b[0m\u001b[0;34m.\u001b[0m\u001b[0m_engine\u001b[0m \u001b[0;34m=\u001b[0m \u001b[0mCParserWrapper\u001b[0m\u001b[0;34m(\u001b[0m\u001b[0mself\u001b[0m\u001b[0;34m.\u001b[0m\u001b[0mf\u001b[0m\u001b[0;34m,\u001b[0m \u001b[0;34m**\u001b[0m\u001b[0mself\u001b[0m\u001b[0;34m.\u001b[0m\u001b[0moptions\u001b[0m\u001b[0;34m)\u001b[0m\u001b[0;34m\u001b[0m\u001b[0;34m\u001b[0m\u001b[0m\n\u001b[0m\u001b[1;32m   1136\u001b[0m         \u001b[0;32melse\u001b[0m\u001b[0;34m:\u001b[0m\u001b[0;34m\u001b[0m\u001b[0;34m\u001b[0m\u001b[0m\n\u001b[1;32m   1137\u001b[0m             \u001b[0;32mif\u001b[0m \u001b[0mengine\u001b[0m \u001b[0;34m==\u001b[0m \u001b[0;34m\"python\"\u001b[0m\u001b[0;34m:\u001b[0m\u001b[0;34m\u001b[0m\u001b[0;34m\u001b[0m\u001b[0m\n",
      "\u001b[0;32m~/opt/anaconda3/lib/python3.7/site-packages/pandas/io/parsers.py\u001b[0m in \u001b[0;36m__init__\u001b[0;34m(self, src, **kwds)\u001b[0m\n\u001b[1;32m   1915\u001b[0m         \u001b[0mkwds\u001b[0m\u001b[0;34m[\u001b[0m\u001b[0;34m\"usecols\"\u001b[0m\u001b[0;34m]\u001b[0m \u001b[0;34m=\u001b[0m \u001b[0mself\u001b[0m\u001b[0;34m.\u001b[0m\u001b[0musecols\u001b[0m\u001b[0;34m\u001b[0m\u001b[0;34m\u001b[0m\u001b[0m\n\u001b[1;32m   1916\u001b[0m \u001b[0;34m\u001b[0m\u001b[0m\n\u001b[0;32m-> 1917\u001b[0;31m         \u001b[0mself\u001b[0m\u001b[0;34m.\u001b[0m\u001b[0m_reader\u001b[0m \u001b[0;34m=\u001b[0m \u001b[0mparsers\u001b[0m\u001b[0;34m.\u001b[0m\u001b[0mTextReader\u001b[0m\u001b[0;34m(\u001b[0m\u001b[0msrc\u001b[0m\u001b[0;34m,\u001b[0m \u001b[0;34m**\u001b[0m\u001b[0mkwds\u001b[0m\u001b[0;34m)\u001b[0m\u001b[0;34m\u001b[0m\u001b[0;34m\u001b[0m\u001b[0m\n\u001b[0m\u001b[1;32m   1918\u001b[0m         \u001b[0mself\u001b[0m\u001b[0;34m.\u001b[0m\u001b[0munnamed_cols\u001b[0m \u001b[0;34m=\u001b[0m \u001b[0mself\u001b[0m\u001b[0;34m.\u001b[0m\u001b[0m_reader\u001b[0m\u001b[0;34m.\u001b[0m\u001b[0munnamed_cols\u001b[0m\u001b[0;34m\u001b[0m\u001b[0;34m\u001b[0m\u001b[0m\n\u001b[1;32m   1919\u001b[0m \u001b[0;34m\u001b[0m\u001b[0m\n",
      "\u001b[0;32mpandas/_libs/parsers.pyx\u001b[0m in \u001b[0;36mpandas._libs.parsers.TextReader.__cinit__\u001b[0;34m()\u001b[0m\n",
      "\u001b[0;32mpandas/_libs/parsers.pyx\u001b[0m in \u001b[0;36mpandas._libs.parsers.TextReader._setup_parser_source\u001b[0;34m()\u001b[0m\n",
      "\u001b[0;31mFileNotFoundError\u001b[0m: [Errno 2] File b'execute.csv' does not exist: b'execute.csv'"
     ]
    }
   ],
   "source": [
    "exec_data = pd.read_csv('execute.csv') #Fresh Unkonwn data system that doesnt know features extracted from. antoher prgram\n",
    "exec_data"
   ]
  },
  {
   "cell_type": "code",
   "execution_count": 24,
   "metadata": {},
   "outputs": [
    {
     "ename": "NameError",
     "evalue": "name 'exec_data' is not defined",
     "output_type": "error",
     "traceback": [
      "\u001b[0;31m---------------------------------------------------------------------------\u001b[0m",
      "\u001b[0;31mNameError\u001b[0m                                 Traceback (most recent call last)",
      "\u001b[0;32m<ipython-input-24-853aabc77d90>\u001b[0m in \u001b[0;36m<module>\u001b[0;34m\u001b[0m\n\u001b[0;32m----> 1\u001b[0;31m \u001b[0mYex\u001b[0m \u001b[0;34m=\u001b[0m \u001b[0mexec_data\u001b[0m\u001b[0;34m.\u001b[0m\u001b[0miloc\u001b[0m\u001b[0;34m[\u001b[0m\u001b[0;34m:\u001b[0m\u001b[0;34m,\u001b[0m \u001b[0;34m:\u001b[0m\u001b[0;36m1\u001b[0m\u001b[0;34m]\u001b[0m\u001b[0;34m;\u001b[0m\u001b[0;34m\u001b[0m\u001b[0;34m\u001b[0m\u001b[0m\n\u001b[0m\u001b[1;32m      2\u001b[0m \u001b[0mYex\u001b[0m \u001b[0;34m=\u001b[0m\u001b[0mnp\u001b[0m\u001b[0;34m.\u001b[0m\u001b[0marray\u001b[0m\u001b[0;34m(\u001b[0m\u001b[0mexec_data\u001b[0m\u001b[0;34m.\u001b[0m\u001b[0miloc\u001b[0m\u001b[0;34m[\u001b[0m\u001b[0;34m:\u001b[0m\u001b[0;34m,\u001b[0m \u001b[0;34m:\u001b[0m\u001b[0;36m1\u001b[0m\u001b[0;34m]\u001b[0m\u001b[0;34m)\u001b[0m\u001b[0;34m\u001b[0m\u001b[0;34m\u001b[0m\u001b[0m\n\u001b[1;32m      3\u001b[0m \u001b[0mexec_data\u001b[0m\u001b[0;34m\u001b[0m\u001b[0;34m\u001b[0m\u001b[0m\n",
      "\u001b[0;31mNameError\u001b[0m: name 'exec_data' is not defined"
     ]
    }
   ],
   "source": [
    "Yex = exec_data.iloc[:, :1];\n",
    "Yex =np.array(exec_data.iloc[:, :1])\n",
    "exec_data"
   ]
  },
  {
   "cell_type": "code",
   "execution_count": null,
   "metadata": {},
   "outputs": [],
   "source": [
    "exec_data = exec_data.drop(['filename'],axis=1)\n",
    "scaler = StandardScaler()\n",
    "Xex = scaler.fit_transform(np.array(exec_data.iloc[:, :], dtype = float))\n",
    "predictions = model.predict_classes(Xex)\n",
    "predictions"
   ]
  },
  {
   "cell_type": "code",
   "execution_count": null,
   "metadata": {},
   "outputs": [],
   "source": [
    "#p=[0]*len(exec_data)\n",
    "#confusion_matrix(p, predictions) #PLots the Confusion MAtrix"
   ]
  },
  {
   "cell_type": "code",
   "execution_count": null,
   "metadata": {},
   "outputs": [],
   "source": [
    "#Class -0=Piano\n",
    "#Class -1=Strings\n",
    "X_train.shape"
   ]
  },
  {
   "cell_type": "code",
   "execution_count": null,
   "metadata": {},
   "outputs": [],
   "source": []
  },
  {
   "cell_type": "code",
   "execution_count": null,
   "metadata": {},
   "outputs": [],
   "source": [
    "K[2][0]"
   ]
  },
  {
   "cell_type": "code",
   "execution_count": null,
   "metadata": {},
   "outputs": [],
   "source": [
    "K[2][1]"
   ]
  },
  {
   "cell_type": "code",
   "execution_count": null,
   "metadata": {},
   "outputs": [],
   "source": [
    "os.getcwd()"
   ]
  },
  {
   "cell_type": "code",
   "execution_count": null,
   "metadata": {},
   "outputs": [],
   "source": []
  },
  {
   "cell_type": "code",
   "execution_count": null,
   "metadata": {},
   "outputs": [],
   "source": []
  },
  {
   "cell_type": "code",
   "execution_count": null,
   "metadata": {},
   "outputs": [],
   "source": [
    "3<<8"
   ]
  },
  {
   "cell_type": "code",
   "execution_count": null,
   "metadata": {},
   "outputs": [],
   "source": [
    "1<<8"
   ]
  },
  {
   "cell_type": "code",
   "execution_count": null,
   "metadata": {},
   "outputs": [],
   "source": [
    "(4<<8)+15"
   ]
  },
  {
   "cell_type": "code",
   "execution_count": null,
   "metadata": {},
   "outputs": [],
   "source": []
  }
 ],
 "metadata": {
  "kernelspec": {
   "display_name": "Python 3",
   "language": "python",
   "name": "python3"
  },
  "language_info": {
   "codemirror_mode": {
    "name": "ipython",
    "version": 3
   },
   "file_extension": ".py",
   "mimetype": "text/x-python",
   "name": "python",
   "nbconvert_exporter": "python",
   "pygments_lexer": "ipython3",
   "version": "3.7.4"
  }
 },
 "nbformat": 4,
 "nbformat_minor": 4
}
